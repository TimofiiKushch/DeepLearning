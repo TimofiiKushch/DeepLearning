{
  "cells": [
    {
      "cell_type": "code",
      "source": [
        "!git clone https://github.com/TimofiiKushch/DeepLearning.git"
      ],
      "metadata": {
        "colab": {
          "base_uri": "https://localhost:8080/"
        },
        "id": "bEZwfsFu6Nqu",
        "outputId": "cda45f8c-f94e-4b89-815e-82277ec5b6b5"
      },
      "id": "bEZwfsFu6Nqu",
      "execution_count": 1,
      "outputs": [
        {
          "output_type": "stream",
          "name": "stdout",
          "text": [
            "Cloning into 'DeepLearning'...\n",
            "remote: Enumerating objects: 47, done.\u001b[K\n",
            "remote: Counting objects: 100% (47/47), done.\u001b[K\n",
            "remote: Compressing objects: 100% (37/37), done.\u001b[K\n",
            "remote: Total 47 (delta 5), reused 0 (delta 0), pack-reused 0 (from 0)\u001b[K\n",
            "Receiving objects: 100% (47/47), 874.42 KiB | 13.25 MiB/s, done.\n",
            "Resolving deltas: 100% (5/5), done.\n"
          ]
        }
      ]
    },
    {
      "cell_type": "code",
      "source": [
        "%cd /content/DeepLearning/assignment2/"
      ],
      "metadata": {
        "colab": {
          "base_uri": "https://localhost:8080/"
        },
        "id": "1kHoZJ21AGf0",
        "outputId": "04c0998d-f8f9-4911-b900-87d917e39b3e"
      },
      "id": "1kHoZJ21AGf0",
      "execution_count": 2,
      "outputs": [
        {
          "output_type": "stream",
          "name": "stdout",
          "text": [
            "/content/DeepLearning/assignment2\n"
          ]
        }
      ]
    },
    {
      "cell_type": "code",
      "source": [
        "from google.colab import drive\n",
        "drive.mount('/content/drive')"
      ],
      "metadata": {
        "colab": {
          "base_uri": "https://localhost:8080/"
        },
        "id": "4Zi7eUOy-HFI",
        "outputId": "ee2f3eea-917d-402e-f5be-e8a7f47e1472"
      },
      "id": "4Zi7eUOy-HFI",
      "execution_count": 3,
      "outputs": [
        {
          "output_type": "stream",
          "name": "stdout",
          "text": [
            "Mounted at /content/drive\n"
          ]
        }
      ]
    },
    {
      "cell_type": "markdown",
      "id": "e2c3cfa1",
      "metadata": {
        "tags": [
          "pdf-title"
        ],
        "id": "e2c3cfa1"
      },
      "source": [
        "# Softmax exercise\n",
        "\n",
        "You will:\n",
        "\n",
        "- implement a fully-vectorized **loss function** for the Softmax classifier\n",
        "- implement the fully-vectorized expression for its **analytic gradient**\n",
        "- **check your implementation** with numerical gradient\n",
        "- use a validation set to **tune the learning rate and regularization** strength\n",
        "- **optimize** the loss function with **SGD**\n",
        "- **visualize** the final learned weights\n"
      ]
    },
    {
      "cell_type": "code",
      "execution_count": 4,
      "id": "c55a72bf",
      "metadata": {
        "tags": [
          "pdf-ignore"
        ],
        "id": "c55a72bf"
      },
      "outputs": [],
      "source": [
        "import random\n",
        "import numpy as np\n",
        "import zipfile\n",
        "\n",
        "from utils.data_utils import load_CIFAR10\n",
        "import matplotlib.pyplot as plt\n",
        "\n",
        "%matplotlib inline\n",
        "plt.rcParams['figure.figsize'] = (10.0, 8.0) # set default size of plots\n",
        "plt.rcParams['image.interpolation'] = 'nearest'\n",
        "plt.rcParams['image.cmap'] = 'gray'\n",
        "\n",
        "# for auto-reloading extenrnal modules\n",
        "# see http://stackoverflow.com/questions/1907993/autoreload-of-modules-in-ipython\n",
        "%load_ext autoreload\n",
        "%autoreload 2"
      ]
    },
    {
      "cell_type": "code",
      "source": [
        "%cd /content"
      ],
      "metadata": {
        "colab": {
          "base_uri": "https://localhost:8080/"
        },
        "id": "t51mgHYtt-ld",
        "outputId": "07fb85d3-60de-4dfc-9a35-a26279467ca8"
      },
      "id": "t51mgHYtt-ld",
      "execution_count": 5,
      "outputs": [
        {
          "output_type": "stream",
          "name": "stdout",
          "text": [
            "/content\n"
          ]
        }
      ]
    },
    {
      "cell_type": "code",
      "source": [
        "with zipfile.ZipFile('drive/MyDrive/cifar-10-batches-py.zip', 'r') as zip_ref:\n",
        "    zip_ref.extractall()\n"
      ],
      "metadata": {
        "id": "2RYVO22FCIAF"
      },
      "id": "2RYVO22FCIAF",
      "execution_count": 6,
      "outputs": []
    },
    {
      "cell_type": "code",
      "execution_count": 7,
      "id": "b99594ec",
      "metadata": {
        "tags": [
          "pdf-ignore"
        ],
        "colab": {
          "base_uri": "https://localhost:8080/"
        },
        "id": "b99594ec",
        "outputId": "65c4daa6-06d6-4617-8572-2556821bb3a8"
      },
      "outputs": [
        {
          "output_type": "stream",
          "name": "stdout",
          "text": [
            "Train data shape:  (49000, 3073)\n",
            "Train labels shape:  (49000,)\n",
            "Validation data shape:  (1000, 3073)\n",
            "Validation labels shape:  (1000,)\n",
            "Test data shape:  (1000, 3073)\n",
            "Test labels shape:  (1000,)\n",
            "dev data shape:  (500, 3073)\n",
            "dev labels shape:  (500,)\n"
          ]
        }
      ],
      "source": [
        "def get_CIFAR10_data(num_training=49000, num_validation=1000, num_test=1000, num_dev=500):\n",
        "    \"\"\"\n",
        "    Load the CIFAR-10 dataset from disk and perform preprocessing to prepare\n",
        "    it for the linear classifier. These are the same steps as we used for the\n",
        "    SVM, but condensed to a single function.\n",
        "    \"\"\"\n",
        "    # Load the raw CIFAR-10 data\n",
        "    cifar10_dir = 'cifar-10-batches-py'\n",
        "\n",
        "    # Cleaning up variables to prevent loading data multiple times (which may cause memory issue)\n",
        "    try:\n",
        "       del X_train, y_train\n",
        "       del X_test, y_test\n",
        "       print('Clear previously loaded data.')\n",
        "    except:\n",
        "       pass\n",
        "\n",
        "    X_train, y_train, X_test, y_test = load_CIFAR10(cifar10_dir)\n",
        "\n",
        "    # subsample the data\n",
        "    mask = list(range(num_training, num_training + num_validation))\n",
        "    X_val = X_train[mask]\n",
        "    y_val = y_train[mask]\n",
        "    mask = list(range(num_training))\n",
        "    X_train = X_train[mask]\n",
        "    y_train = y_train[mask]\n",
        "    mask = list(range(num_test))\n",
        "    X_test = X_test[mask]\n",
        "    y_test = y_test[mask]\n",
        "    mask = np.random.choice(num_training, num_dev, replace=False)\n",
        "    X_dev = X_train[mask]\n",
        "    y_dev = y_train[mask]\n",
        "\n",
        "    # Preprocessing: reshape the image data into rows\n",
        "    X_train = np.reshape(X_train, (X_train.shape[0], -1))\n",
        "    X_val = np.reshape(X_val, (X_val.shape[0], -1))\n",
        "    X_test = np.reshape(X_test, (X_test.shape[0], -1))\n",
        "    X_dev = np.reshape(X_dev, (X_dev.shape[0], -1))\n",
        "\n",
        "    # Normalize the data: subtract the mean image\n",
        "    mean_image = np.mean(X_train, axis = 0)\n",
        "    X_train -= mean_image\n",
        "    X_val -= mean_image\n",
        "    X_test -= mean_image\n",
        "    X_dev -= mean_image\n",
        "\n",
        "    # add bias dimension and transform into columns\n",
        "    X_train = np.hstack([X_train, np.ones((X_train.shape[0], 1))])\n",
        "    X_val = np.hstack([X_val, np.ones((X_val.shape[0], 1))])\n",
        "    X_test = np.hstack([X_test, np.ones((X_test.shape[0], 1))])\n",
        "    X_dev = np.hstack([X_dev, np.ones((X_dev.shape[0], 1))])\n",
        "\n",
        "    return X_train, y_train, X_val, y_val, X_test, y_test, X_dev, y_dev\n",
        "\n",
        "\n",
        "# Invoke the above function to get our data.\n",
        "X_train, y_train, X_val, y_val, X_test, y_test, X_dev, y_dev = get_CIFAR10_data()\n",
        "print('Train data shape: ', X_train.shape)\n",
        "print('Train labels shape: ', y_train.shape)\n",
        "print('Validation data shape: ', X_val.shape)\n",
        "print('Validation labels shape: ', y_val.shape)\n",
        "print('Test data shape: ', X_test.shape)\n",
        "print('Test labels shape: ', y_test.shape)\n",
        "print('dev data shape: ', X_dev.shape)\n",
        "print('dev labels shape: ', y_dev.shape)"
      ]
    },
    {
      "cell_type": "markdown",
      "id": "2713b7f4",
      "metadata": {
        "id": "2713b7f4"
      },
      "source": [
        "## Softmax Classifier\n",
        "\n",
        "Your code for this section will all be written inside `utils/classifiers/softmax.py`.\n"
      ]
    },
    {
      "cell_type": "markdown",
      "id": "607ff810",
      "metadata": {
        "id": "607ff810"
      },
      "source": [
        "$\\color{Orange}{\\textit Task:}$ *First implement the naive softmax loss function with nested loops. Open the file `utils/classifiers/softmax.py` and implement the `softmax_loss_naive` function. Skip the grad implementation for now.*"
      ]
    },
    {
      "cell_type": "code",
      "execution_count": 8,
      "id": "6168f67e",
      "metadata": {
        "colab": {
          "base_uri": "https://localhost:8080/"
        },
        "id": "6168f67e",
        "outputId": "90766179-0231-421c-c033-6f807fc4fe77"
      },
      "outputs": [
        {
          "output_type": "stream",
          "name": "stdout",
          "text": [
            "loss: 2.317195\n",
            "sanity check: 2.302585\n"
          ]
        }
      ],
      "source": [
        "from utils.classifiers.softmax import softmax_loss_naive\n",
        "import time\n",
        "\n",
        "# Generate a random softmax weight matrix and use it to compute the loss.\n",
        "W = np.random.randn(3073, 10) * 0.0001\n",
        "loss, grad = softmax_loss_naive(W, X_dev, y_dev, 0.0)\n",
        "\n",
        "# As a rough sanity check, our loss should be something close to -log(0.1).\n",
        "print('loss: %f' % loss)\n",
        "print('sanity check: %f' % (-np.log(0.1)))"
      ]
    },
    {
      "cell_type": "markdown",
      "id": "b35bc604",
      "metadata": {
        "tags": [
          "pdf-inline"
        ],
        "id": "b35bc604"
      },
      "source": [
        "**Inline Question 1**\n",
        "\n",
        "Why do we expect our loss to be close to -log(0.1)? Explain briefly.**\n",
        "\n",
        "$\\color{blue}{\\textit Your Answer:}$ With 10 classes and a random weight matrix the expected value of the softmax function for each x is equal to 0.1, which gives -log(0,1) as the expected value of the loss.\n",
        "\n"
      ]
    },
    {
      "cell_type": "markdown",
      "id": "b1878ff5",
      "metadata": {
        "id": "b1878ff5"
      },
      "source": [
        "$\\color{Orange}{\\textit Task:}$ *Complete the implementation of `softmax_loss_naive` and implement a (naive) version of the gradient that uses nested loops.*"
      ]
    },
    {
      "cell_type": "code",
      "execution_count": 9,
      "id": "b7bef674",
      "metadata": {
        "id": "b7bef674",
        "colab": {
          "base_uri": "https://localhost:8080/"
        },
        "outputId": "a73d2cb3-5095-43ab-ff67-08fd25e803fa"
      },
      "outputs": [
        {
          "output_type": "stream",
          "name": "stdout",
          "text": [
            "numerical: 0.506224 analytic: 0.506224, relative error: 1.742847e-08\n",
            "numerical: 0.949607 analytic: 0.949607, relative error: 6.589721e-08\n",
            "numerical: -0.548314 analytic: -0.548314, relative error: 6.310295e-08\n",
            "numerical: 2.601538 analytic: 2.601538, relative error: 1.501662e-08\n",
            "numerical: -3.186889 analytic: -3.186889, relative error: 1.501493e-08\n",
            "numerical: 0.375115 analytic: 0.375114, relative error: 7.178772e-08\n",
            "numerical: 1.986156 analytic: 1.986156, relative error: 2.736432e-08\n",
            "numerical: 5.354026 analytic: 5.354026, relative error: 8.569187e-09\n",
            "numerical: 1.443737 analytic: 1.443737, relative error: 3.358439e-08\n",
            "numerical: -2.308467 analytic: -2.308467, relative error: 3.092372e-08\n",
            "numerical: -1.002485 analytic: -1.002485, relative error: 2.705735e-09\n",
            "numerical: -0.588035 analytic: -0.597954, relative error: 8.363870e-03\n",
            "numerical: -6.054959 analytic: -6.054959, relative error: 1.181909e-08\n",
            "numerical: 1.675475 analytic: 1.669551, relative error: 1.771205e-03\n",
            "numerical: 1.723888 analytic: 1.719203, relative error: 1.360873e-03\n",
            "numerical: -0.588456 analytic: -0.584536, relative error: 3.341817e-03\n",
            "numerical: -1.517539 analytic: -1.511412, relative error: 2.022700e-03\n",
            "numerical: -2.573606 analytic: -2.573606, relative error: 6.022867e-09\n",
            "numerical: 1.898060 analytic: 1.898060, relative error: 3.676952e-09\n",
            "numerical: -0.021588 analytic: -0.023018, relative error: 3.206326e-02\n"
          ]
        }
      ],
      "source": [
        "loss, grad = softmax_loss_naive(W, X_dev, y_dev, 0.0)\n",
        "\n",
        "# Use numeric gradient checking as a debugging tool.\n",
        "# The numeric gradient should be close to the analytic gradient.\n",
        "from utils.gradient_check import grad_check_sparse\n",
        "f = lambda w: softmax_loss_naive(w, X_dev, y_dev, 0.0)[0]\n",
        "grad_numerical = grad_check_sparse(f, W, grad, 10)\n",
        "\n",
        "# Do another gradient check with regularization\n",
        "loss, grad = softmax_loss_naive(W, X_dev, y_dev, 5e1)\n",
        "f = lambda w: softmax_loss_naive(w, X_dev, y_dev, 5e1)[0]\n",
        "grad_numerical = grad_check_sparse(f, W, grad, 10)"
      ]
    },
    {
      "cell_type": "markdown",
      "id": "40a21187",
      "metadata": {
        "id": "40a21187"
      },
      "source": [
        "$\\color{Orange}{\\textit Task:}$ *Now that we have a naive implementation of the softmax loss function and its gradient, implement a vectorized version in `softmax_loss_vectorized`. The two versions should compute the same results, but the vectorized version should be much faster.*"
      ]
    },
    {
      "cell_type": "code",
      "execution_count": 10,
      "id": "3994f8a3",
      "metadata": {
        "id": "3994f8a3",
        "colab": {
          "base_uri": "https://localhost:8080/"
        },
        "outputId": "30a942f3-7594-4370-aeaf-21981d3e22bf"
      },
      "outputs": [
        {
          "output_type": "stream",
          "name": "stdout",
          "text": [
            "naive loss: 2.317195e+00 computed in 0.084882s\n",
            "vectorized loss: 2.317195e+00 computed in 0.023546s\n",
            "Loss difference: 0.000000\n",
            "Gradient difference: 0.000000\n"
          ]
        }
      ],
      "source": [
        "tic = time.time()\n",
        "loss_naive, grad_naive = softmax_loss_naive(W, X_dev, y_dev, 0.000005)\n",
        "toc = time.time()\n",
        "print('naive loss: %e computed in %fs' % (loss_naive, toc - tic))\n",
        "\n",
        "from utils.classifiers.softmax import softmax_loss_vectorized\n",
        "tic = time.time()\n",
        "loss_vectorized, grad_vectorized = softmax_loss_vectorized(W, X_dev, y_dev, 0.000005)\n",
        "toc = time.time()\n",
        "print('vectorized loss: %e computed in %fs' % (loss_vectorized, toc - tic))\n",
        "\n",
        "# We use the Frobenius norm to compare the two versions of the gradient.\n",
        "grad_difference = np.linalg.norm(grad_naive - grad_vectorized, ord='fro')\n",
        "print('Loss difference: %f' % np.abs(loss_naive - loss_vectorized))\n",
        "print('Gradient difference: %f' % grad_difference)"
      ]
    },
    {
      "cell_type": "markdown",
      "id": "5f26585a",
      "metadata": {
        "id": "5f26585a"
      },
      "source": [
        "$\\color{Orange}{\\textit Task:}$ *Use the validation set to tune hyperparameters (**regularization strength** and **learning rate**). You should experiment with different ranges for the learning rates and regularization strengths; if you are careful you should be able to get a classification accuracy of over **0.35** on the validation set.*"
      ]
    },
    {
      "cell_type": "code",
      "execution_count": 11,
      "id": "bd171311",
      "metadata": {
        "tags": [
          "code"
        ],
        "test": "tuning",
        "id": "bd171311",
        "colab": {
          "base_uri": "https://localhost:8080/"
        },
        "outputId": "c4100d2d-9415-4a5d-a11d-1cc4dee7e79a"
      },
      "outputs": [
        {
          "output_type": "stream",
          "name": "stdout",
          "text": [
            "lr 3.000000e-07 reg 5.000000e+03 train accuracy: 0.193102 val accuracy: 0.197000\n",
            "lr 3.000000e-07 reg 1.000000e+04 train accuracy: 0.200878 val accuracy: 0.205000\n",
            "lr 3.000000e-07 reg 2.500000e+04 train accuracy: 0.242286 val accuracy: 0.243000\n",
            "lr 3.000000e-07 reg 5.000000e+04 train accuracy: 0.294653 val accuracy: 0.303000\n",
            "lr 3.000000e-07 reg 1.000000e+05 train accuracy: 0.282551 val accuracy: 0.294000\n",
            "lr 6.000000e-07 reg 5.000000e+03 train accuracy: 0.231531 val accuracy: 0.222000\n",
            "lr 6.000000e-07 reg 1.000000e+04 train accuracy: 0.274408 val accuracy: 0.301000\n",
            "lr 6.000000e-07 reg 2.500000e+04 train accuracy: 0.310429 val accuracy: 0.315000\n",
            "lr 6.000000e-07 reg 5.000000e+04 train accuracy: 0.302388 val accuracy: 0.318000\n",
            "lr 6.000000e-07 reg 1.000000e+05 train accuracy: 0.286653 val accuracy: 0.297000\n",
            "lr 1.000000e-06 reg 5.000000e+03 train accuracy: 0.288449 val accuracy: 0.317000\n",
            "lr 1.000000e-06 reg 1.000000e+04 train accuracy: 0.321735 val accuracy: 0.322000\n",
            "lr 1.000000e-06 reg 2.500000e+04 train accuracy: 0.307673 val accuracy: 0.312000\n",
            "lr 1.000000e-06 reg 5.000000e+04 train accuracy: 0.296857 val accuracy: 0.308000\n",
            "lr 1.000000e-06 reg 1.000000e+05 train accuracy: 0.266857 val accuracy: 0.270000\n",
            "lr 3.000000e-06 reg 5.000000e+03 train accuracy: 0.330061 val accuracy: 0.333000\n",
            "lr 3.000000e-06 reg 1.000000e+04 train accuracy: 0.300735 val accuracy: 0.302000\n",
            "lr 3.000000e-06 reg 2.500000e+04 train accuracy: 0.281939 val accuracy: 0.287000\n",
            "lr 3.000000e-06 reg 5.000000e+04 train accuracy: 0.254510 val accuracy: 0.247000\n",
            "lr 3.000000e-06 reg 1.000000e+05 train accuracy: 0.239837 val accuracy: 0.246000\n",
            "best validation accuracy achieved during cross-validation: 0.333000\n"
          ]
        }
      ],
      "source": [
        "import random\n",
        "\n",
        "from utils.classifiers import Softmax\n",
        "results = {}\n",
        "best_val = -1\n",
        "best_softmax = None\n",
        "\n",
        "################################################################################\n",
        "# TODO:                                                                        #\n",
        "# Use the validation set to set the learning rate and regularization strength. #\n",
        "# save the best trained softmax classifer in best_softmax.                     #\n",
        "################################################################################\n",
        "\n",
        "# Provided as a reference. You may or may not want to change these hyperparameters\n",
        "learning_rates = [3e-7, 6e-7, 10e-7, 30e-7]\n",
        "regularization_strengths = [0.5e4, 1e4, 2.5e4, 5e4, 10e4]\n",
        "\n",
        "# *****START OF YOUR CODE (DO NOT DELETE/MODIFY THIS LINE)*****\n",
        "\n",
        "for lr in learning_rates:\n",
        "  for rs in regularization_strengths:\n",
        "    softmax = Softmax()\n",
        "    softmax.train(X_train, y_train, lr, rs)\n",
        "    acct = np.sum(softmax.predict(X_train) == y_train) / np.shape(X_train)[0]\n",
        "    accv = np.sum(softmax.predict(X_val) == y_val) / np.shape(X_val)[0]\n",
        "    results[(lr, rs)] = (acct, accv)\n",
        "\n",
        "    if accv > best_val:\n",
        "      best_val = accv\n",
        "      best_softmax = softmax\n",
        "\n",
        "# *****END OF YOUR CODE (DO NOT DELETE/MODIFY THIS LINE)*****\n",
        "\n",
        "# Print out results.\n",
        "for lr, reg in sorted(results):\n",
        "    train_accuracy, val_accuracy = results[(lr, reg)]\n",
        "    print('lr %e reg %e train accuracy: %f val accuracy: %f' % (\n",
        "                lr, reg, train_accuracy, val_accuracy))\n",
        "\n",
        "print('best validation accuracy achieved during cross-validation: %f' % best_val)"
      ]
    },
    {
      "cell_type": "code",
      "execution_count": 12,
      "id": "f94a8f12",
      "metadata": {
        "test": "test",
        "id": "f94a8f12",
        "colab": {
          "base_uri": "https://localhost:8080/"
        },
        "outputId": "64292918-f99c-44e8-d063-f31768927a50"
      },
      "outputs": [
        {
          "output_type": "stream",
          "name": "stdout",
          "text": [
            "softmax on raw pixels final test set accuracy: 0.331000\n"
          ]
        }
      ],
      "source": [
        "# evaluate on test set\n",
        "# Evaluate the best softmax on test set\n",
        "y_test_pred = best_softmax.predict(X_test)\n",
        "test_accuracy = np.mean(y_test == y_test_pred)\n",
        "print('softmax on raw pixels final test set accuracy: %f' % (test_accuracy, ))"
      ]
    },
    {
      "cell_type": "markdown",
      "id": "7e2112ee",
      "metadata": {
        "tags": [
          "pdf-inline"
        ],
        "id": "7e2112ee"
      },
      "source": [
        "**Inline Question 2** - *True or False*\n",
        "\n",
        "Suppose the overall training loss is defined as the sum of the per-datapoint loss over all training examples. It is possible to add a new datapoint to a training set that would leave the SVM loss unchanged, but this is not the case with the Softmax classifier loss.\n",
        "\n",
        "$\\color{blue}{\\textit Your Answer:}$ True.\n",
        "\n",
        "\n",
        "$\\color{blue}{\\textit Your Explanation:}$ SVM loss can remain the same in case newly added point has a better score for the correct class than the for the rest of the classes with a margin of at least Δ. Softmax loss will always increase because the denominator of the softmax function f(x) is always greater than the numerator (it is a sum of the numerator and some positive expression), which means L_i = -log(f(x)) > 0.\n",
        "\n"
      ]
    },
    {
      "cell_type": "code",
      "execution_count": 13,
      "id": "86d86120",
      "metadata": {
        "id": "86d86120",
        "colab": {
          "base_uri": "https://localhost:8080/",
          "height": 528
        },
        "outputId": "0831811b-d9e3-4a8d-a76f-b3d586837c16"
      },
      "outputs": [
        {
          "output_type": "display_data",
          "data": {
            "text/plain": [
              "<Figure size 1000x800 with 10 Axes>"
            ],
            "image/png": "[encoded data removed]"
          },
          "metadata": {}
        }
      ],
      "source": [
        "# Visualize the learned weights for each class\n",
        "w = best_softmax.W[:-1,:] # strip out the bias\n",
        "w = w.reshape(32, 32, 3, 10)\n",
        "\n",
        "w_min, w_max = np.min(w), np.max(w)\n",
        "\n",
        "classes = ['plane', 'car', 'bird', 'cat', 'deer', 'dog', 'frog', 'horse', 'ship', 'truck']\n",
        "for i in range(10):\n",
        "    plt.subplot(2, 5, i + 1)\n",
        "\n",
        "    # Rescale the weights to be between 0 and 255\n",
        "    wimg = 255.0 * (w[:, :, :, i].squeeze() - w_min) / (w_max - w_min)\n",
        "    plt.imshow(wimg.astype('uint8'))\n",
        "    plt.axis('off')\n",
        "    plt.title(classes[i])"
      ]
    },
    {
      "cell_type": "code",
      "execution_count": null,
      "id": "24688f99",
      "metadata": {
        "id": "24688f99"
      },
      "outputs": [],
      "source": []
    }
  ],
  "metadata": {
    "kernelspec": {
      "display_name": "lab1-env",
      "language": "python",
      "name": "python3"
    },
    "language_info": {
      "codemirror_mode": {
        "name": "ipython",
        "version": 3
      },
      "file_extension": ".py",
      "mimetype": "text/x-python",
      "name": "python",
      "nbconvert_exporter": "python",
      "pygments_lexer": "ipython3",
      "version": "3.10.14"
    },
    "colab": {
      "provenance": []
    }
  },
  "nbformat": 4,
  "nbformat_minor": 5
}