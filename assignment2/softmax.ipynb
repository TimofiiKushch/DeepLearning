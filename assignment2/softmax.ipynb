{
  "cells": [
    {
      "cell_type": "code",
      "source": [
        "!git clone https://github.com/roma-vinn/CV-DL-course.git"
      ],
      "metadata": {
        "colab": {
          "base_uri": "https://localhost:8080/"
        },
        "id": "bEZwfsFu6Nqu",
        "outputId": "1b95949b-76b1-4f93-dd8e-f31cd5c69b0e"
      },
      "id": "bEZwfsFu6Nqu",
      "execution_count": 1,
      "outputs": [
        {
          "output_type": "stream",
          "name": "stdout",
          "text": [
            "Cloning into 'CV-DL-course'...\n",
            "remote: Enumerating objects: 53, done.\u001b[K\n",
            "remote: Counting objects: 100% (53/53), done.\u001b[K\n",
            "remote: Compressing objects: 100% (44/44), done.\u001b[K\n",
            "remote: Total 53 (delta 7), reused 45 (delta 3), pack-reused 0 (from 0)\u001b[K\n",
            "Receiving objects: 100% (53/53), 421.59 KiB | 5.27 MiB/s, done.\n",
            "Resolving deltas: 100% (7/7), done.\n"
          ]
        }
      ]
    },
    {
      "cell_type": "code",
      "source": [
        "%cd /content/CV-DL-course/assignment2/"
      ],
      "metadata": {
        "colab": {
          "base_uri": "https://localhost:8080/"
        },
        "id": "1kHoZJ21AGf0",
        "outputId": "f56595e2-1957-4850-ae04-e07a0a0642d6"
      },
      "id": "1kHoZJ21AGf0",
      "execution_count": 2,
      "outputs": [
        {
          "output_type": "stream",
          "name": "stdout",
          "text": [
            "/content/CV-DL-course/assignment2\n"
          ]
        }
      ]
    },
    {
      "cell_type": "code",
      "execution_count": 3,
      "id": "d8aaae81",
      "metadata": {
        "colab": {
          "base_uri": "https://localhost:8080/"
        },
        "id": "d8aaae81",
        "outputId": "3693fb3b-47ca-4421-b253-2a67b25c8e23"
      },
      "outputs": [
        {
          "output_type": "stream",
          "name": "stdout",
          "text": [
            "datasets/cifar-10-python.tar.gz: No such file or directory\n",
            "tar (child): datasets/cifar-10-python.tar.gz: Cannot open: No such file or directory\n",
            "tar (child): Error is not recoverable: exiting now\n",
            "tar: Child returned status 2\n",
            "tar: Error is not recoverable: exiting now\n",
            "rm: cannot remove 'datasets/cifar-10-python.tar.gz': No such file or directory\n",
            "datasets/imagenet_val_25.npz: No such file or directory\n"
          ]
        }
      ],
      "source": [
        "!bash get_datasets.sh"
      ]
    },
    {
      "cell_type": "code",
      "source": [
        "from google.colab import drive\n",
        "drive.mount('/content/drive')"
      ],
      "metadata": {
        "colab": {
          "base_uri": "https://localhost:8080/"
        },
        "id": "4Zi7eUOy-HFI",
        "outputId": "752cfdbc-e6ae-4b9c-9860-f9fb5ca557e1"
      },
      "id": "4Zi7eUOy-HFI",
      "execution_count": 4,
      "outputs": [
        {
          "output_type": "stream",
          "name": "stdout",
          "text": [
            "Mounted at /content/drive\n"
          ]
        }
      ]
    },
    {
      "cell_type": "markdown",
      "id": "e2c3cfa1",
      "metadata": {
        "tags": [
          "pdf-title"
        ],
        "id": "e2c3cfa1"
      },
      "source": [
        "# Softmax exercise\n",
        "\n",
        "You will:\n",
        "\n",
        "- implement a fully-vectorized **loss function** for the Softmax classifier\n",
        "- implement the fully-vectorized expression for its **analytic gradient**\n",
        "- **check your implementation** with numerical gradient\n",
        "- use a validation set to **tune the learning rate and regularization** strength\n",
        "- **optimize** the loss function with **SGD**\n",
        "- **visualize** the final learned weights\n"
      ]
    },
    {
      "cell_type": "code",
      "execution_count": 5,
      "id": "c55a72bf",
      "metadata": {
        "tags": [
          "pdf-ignore"
        ],
        "id": "c55a72bf"
      },
      "outputs": [],
      "source": [
        "import random\n",
        "import numpy as np\n",
        "import zipfile\n",
        "\n",
        "from utils.data_utils import load_CIFAR10\n",
        "import matplotlib.pyplot as plt\n",
        "\n",
        "%matplotlib inline\n",
        "plt.rcParams['figure.figsize'] = (10.0, 8.0) # set default size of plots\n",
        "plt.rcParams['image.interpolation'] = 'nearest'\n",
        "plt.rcParams['image.cmap'] = 'gray'\n",
        "\n",
        "# for auto-reloading extenrnal modules\n",
        "# see http://stackoverflow.com/questions/1907993/autoreload-of-modules-in-ipython\n",
        "%load_ext autoreload\n",
        "%autoreload 2"
      ]
    },
    {
      "cell_type": "code",
      "source": [
        "%cd /content"
      ],
      "metadata": {
        "colab": {
          "base_uri": "https://localhost:8080/"
        },
        "id": "t51mgHYtt-ld",
        "outputId": "c55ded74-cb3e-4b70-b5b1-0fed1118590d"
      },
      "id": "t51mgHYtt-ld",
      "execution_count": 7,
      "outputs": [
        {
          "output_type": "stream",
          "name": "stdout",
          "text": [
            "/content\n"
          ]
        }
      ]
    },
    {
      "cell_type": "code",
      "source": [
        "with zipfile.ZipFile('drive/MyDrive/cifar-10-batches-py.zip', 'r') as zip_ref:\n",
        "    zip_ref.extractall()\n"
      ],
      "metadata": {
        "id": "2RYVO22FCIAF"
      },
      "id": "2RYVO22FCIAF",
      "execution_count": 8,
      "outputs": []
    },
    {
      "cell_type": "code",
      "execution_count": 11,
      "id": "b99594ec",
      "metadata": {
        "tags": [
          "pdf-ignore"
        ],
        "colab": {
          "base_uri": "https://localhost:8080/"
        },
        "id": "b99594ec",
        "outputId": "c96859c7-d624-4046-8e1d-ebe3a68b9f76"
      },
      "outputs": [
        {
          "output_type": "stream",
          "name": "stdout",
          "text": [
            "Train data shape:  (49000, 3073)\n",
            "Train labels shape:  (49000,)\n",
            "Validation data shape:  (1000, 3073)\n",
            "Validation labels shape:  (1000,)\n",
            "Test data shape:  (1000, 3073)\n",
            "Test labels shape:  (1000,)\n",
            "dev data shape:  (500, 3073)\n",
            "dev labels shape:  (500,)\n"
          ]
        }
      ],
      "source": [
        "def get_CIFAR10_data(num_training=49000, num_validation=1000, num_test=1000, num_dev=500):\n",
        "    \"\"\"\n",
        "    Load the CIFAR-10 dataset from disk and perform preprocessing to prepare\n",
        "    it for the linear classifier. These are the same steps as we used for the\n",
        "    SVM, but condensed to a single function.\n",
        "    \"\"\"\n",
        "    # Load the raw CIFAR-10 data\n",
        "    cifar10_dir = 'cifar-10-batches-py'\n",
        "\n",
        "    # Cleaning up variables to prevent loading data multiple times (which may cause memory issue)\n",
        "    try:\n",
        "       del X_train, y_train\n",
        "       del X_test, y_test\n",
        "       print('Clear previously loaded data.')\n",
        "    except:\n",
        "       pass\n",
        "\n",
        "    X_train, y_train, X_test, y_test = load_CIFAR10(cifar10_dir)\n",
        "\n",
        "    # subsample the data\n",
        "    mask = list(range(num_training, num_training + num_validation))\n",
        "    X_val = X_train[mask]\n",
        "    y_val = y_train[mask]\n",
        "    mask = list(range(num_training))\n",
        "    X_train = X_train[mask]\n",
        "    y_train = y_train[mask]\n",
        "    mask = list(range(num_test))\n",
        "    X_test = X_test[mask]\n",
        "    y_test = y_test[mask]\n",
        "    mask = np.random.choice(num_training, num_dev, replace=False)\n",
        "    X_dev = X_train[mask]\n",
        "    y_dev = y_train[mask]\n",
        "\n",
        "    # Preprocessing: reshape the image data into rows\n",
        "    X_train = np.reshape(X_train, (X_train.shape[0], -1))\n",
        "    X_val = np.reshape(X_val, (X_val.shape[0], -1))\n",
        "    X_test = np.reshape(X_test, (X_test.shape[0], -1))\n",
        "    X_dev = np.reshape(X_dev, (X_dev.shape[0], -1))\n",
        "\n",
        "    # Normalize the data: subtract the mean image\n",
        "    mean_image = np.mean(X_train, axis = 0)\n",
        "    X_train -= mean_image\n",
        "    X_val -= mean_image\n",
        "    X_test -= mean_image\n",
        "    X_dev -= mean_image\n",
        "\n",
        "    # add bias dimension and transform into columns\n",
        "    X_train = np.hstack([X_train, np.ones((X_train.shape[0], 1))])\n",
        "    X_val = np.hstack([X_val, np.ones((X_val.shape[0], 1))])\n",
        "    X_test = np.hstack([X_test, np.ones((X_test.shape[0], 1))])\n",
        "    X_dev = np.hstack([X_dev, np.ones((X_dev.shape[0], 1))])\n",
        "\n",
        "    return X_train, y_train, X_val, y_val, X_test, y_test, X_dev, y_dev\n",
        "\n",
        "\n",
        "# Invoke the above function to get our data.\n",
        "X_train, y_train, X_val, y_val, X_test, y_test, X_dev, y_dev = get_CIFAR10_data()\n",
        "print('Train data shape: ', X_train.shape)\n",
        "print('Train labels shape: ', y_train.shape)\n",
        "print('Validation data shape: ', X_val.shape)\n",
        "print('Validation labels shape: ', y_val.shape)\n",
        "print('Test data shape: ', X_test.shape)\n",
        "print('Test labels shape: ', y_test.shape)\n",
        "print('dev data shape: ', X_dev.shape)\n",
        "print('dev labels shape: ', y_dev.shape)"
      ]
    },
    {
      "cell_type": "markdown",
      "id": "2713b7f4",
      "metadata": {
        "id": "2713b7f4"
      },
      "source": [
        "## Softmax Classifier\n",
        "\n",
        "Your code for this section will all be written inside `utils/classifiers/softmax.py`.\n"
      ]
    },
    {
      "cell_type": "markdown",
      "id": "607ff810",
      "metadata": {
        "id": "607ff810"
      },
      "source": [
        "$\\color{Orange}{\\textit Task:}$ *First implement the naive softmax loss function with nested loops. Open the file `utils/classifiers/softmax.py` and implement the `softmax_loss_naive` function. Skip the grad implementation for now.*"
      ]
    },
    {
      "cell_type": "code",
      "execution_count": 12,
      "id": "6168f67e",
      "metadata": {
        "colab": {
          "base_uri": "https://localhost:8080/"
        },
        "id": "6168f67e",
        "outputId": "3d85ad42-f85c-45b0-df62-53cf28657576"
      },
      "outputs": [
        {
          "output_type": "stream",
          "name": "stdout",
          "text": [
            "loss: 2.338752\n",
            "sanity check: 2.302585\n"
          ]
        }
      ],
      "source": [
        "from utils.classifiers.softmax import softmax_loss_naive\n",
        "import time\n",
        "\n",
        "# Generate a random softmax weight matrix and use it to compute the loss.\n",
        "W = np.random.randn(3073, 10) * 0.0001\n",
        "loss, grad = softmax_loss_naive(W, X_dev, y_dev, 0.0)\n",
        "\n",
        "# As a rough sanity check, our loss should be something close to -log(0.1).\n",
        "print('loss: %f' % loss)\n",
        "print('sanity check: %f' % (-np.log(0.1)))"
      ]
    },
    {
      "cell_type": "markdown",
      "id": "b35bc604",
      "metadata": {
        "tags": [
          "pdf-inline"
        ],
        "id": "b35bc604"
      },
      "source": [
        "**Inline Question 1**\n",
        "\n",
        "Why do we expect our loss to be close to -log(0.1)? Explain briefly.**\n",
        "\n",
        "$\\color{blue}{\\textit Your Answer:}$ With 10 classes and a random weight matrix the expected value of the softmax function for each x is equal to 0.1, which gives -log(0,1) as the expected value of the loss.\n",
        "\n"
      ]
    },
    {
      "cell_type": "markdown",
      "id": "b1878ff5",
      "metadata": {
        "id": "b1878ff5"
      },
      "source": [
        "$\\color{Orange}{\\textit Task:}$ *Complete the implementation of `softmax_loss_naive` and implement a (naive) version of the gradient that uses nested loops.*"
      ]
    },
    {
      "cell_type": "code",
      "execution_count": 13,
      "id": "b7bef674",
      "metadata": {
        "id": "b7bef674",
        "colab": {
          "base_uri": "https://localhost:8080/"
        },
        "outputId": "52529eec-7836-4807-e3bf-6c247518ce6f"
      },
      "outputs": [
        {
          "output_type": "stream",
          "name": "stdout",
          "text": [
            "numerical: -0.337076 analytic: -0.337076, relative error: 3.566441e-08\n",
            "numerical: 0.386526 analytic: 0.386525, relative error: 8.945381e-08\n",
            "numerical: 0.470063 analytic: 0.470063, relative error: 1.013527e-07\n",
            "numerical: -0.963024 analytic: -0.963024, relative error: 3.739973e-08\n",
            "numerical: 0.745072 analytic: 0.745072, relative error: 4.804939e-08\n",
            "numerical: 1.776733 analytic: 1.776733, relative error: 4.541934e-08\n",
            "numerical: -1.075855 analytic: -1.075855, relative error: 5.185481e-08\n",
            "numerical: 1.763114 analytic: 1.763114, relative error: 5.576418e-10\n",
            "numerical: -0.926961 analytic: -0.926961, relative error: 5.741530e-08\n",
            "numerical: -0.855111 analytic: -0.855111, relative error: 4.982140e-08\n",
            "numerical: 0.305987 analytic: 0.305987, relative error: 8.681370e-08\n",
            "numerical: 0.138547 analytic: 0.130068, relative error: 3.156560e-02\n",
            "numerical: -6.313451 analytic: -6.313451, relative error: 6.806286e-09\n",
            "numerical: -1.979935 analytic: -1.988023, relative error: 2.038357e-03\n",
            "numerical: -0.280179 analytic: -0.268081, relative error: 2.206557e-02\n",
            "numerical: 0.069106 analytic: 0.088927, relative error: 1.254209e-01\n",
            "numerical: 1.147948 analytic: 1.140898, relative error: 3.080402e-03\n",
            "numerical: 0.458508 analytic: 0.462178, relative error: 3.986007e-03\n",
            "numerical: -1.521186 analytic: -1.504225, relative error: 5.605969e-03\n",
            "numerical: -1.682781 analytic: -1.676073, relative error: 1.997128e-03\n"
          ]
        }
      ],
      "source": [
        "loss, grad = softmax_loss_naive(W, X_dev, y_dev, 0.0)\n",
        "\n",
        "# Use numeric gradient checking as a debugging tool.\n",
        "# The numeric gradient should be close to the analytic gradient.\n",
        "from utils.gradient_check import grad_check_sparse\n",
        "f = lambda w: softmax_loss_naive(w, X_dev, y_dev, 0.0)[0]\n",
        "grad_numerical = grad_check_sparse(f, W, grad, 10)\n",
        "\n",
        "# Do another gradient check with regularization\n",
        "loss, grad = softmax_loss_naive(W, X_dev, y_dev, 5e1)\n",
        "f = lambda w: softmax_loss_naive(w, X_dev, y_dev, 5e1)[0]\n",
        "grad_numerical = grad_check_sparse(f, W, grad, 10)"
      ]
    },
    {
      "cell_type": "markdown",
      "id": "40a21187",
      "metadata": {
        "id": "40a21187"
      },
      "source": [
        "$\\color{Orange}{\\textit Task:}$ *Now that we have a naive implementation of the softmax loss function and its gradient, implement a vectorized version in `softmax_loss_vectorized`. The two versions should compute the same results, but the vectorized version should be much faster.*"
      ]
    },
    {
      "cell_type": "code",
      "execution_count": 14,
      "id": "3994f8a3",
      "metadata": {
        "id": "3994f8a3",
        "colab": {
          "base_uri": "https://localhost:8080/"
        },
        "outputId": "22679907-e3c4-4215-a988-8a0c33d2f0c1"
      },
      "outputs": [
        {
          "output_type": "stream",
          "name": "stdout",
          "text": [
            "naive loss: 2.338752e+00 computed in 0.091037s\n",
            "vectorized loss: 2.338752e+00 computed in 0.026549s\n",
            "Loss difference: 0.000000\n",
            "Gradient difference: 0.000000\n"
          ]
        }
      ],
      "source": [
        "tic = time.time()\n",
        "loss_naive, grad_naive = softmax_loss_naive(W, X_dev, y_dev, 0.000005)\n",
        "toc = time.time()\n",
        "print('naive loss: %e computed in %fs' % (loss_naive, toc - tic))\n",
        "\n",
        "from utils.classifiers.softmax import softmax_loss_vectorized\n",
        "tic = time.time()\n",
        "loss_vectorized, grad_vectorized = softmax_loss_vectorized(W, X_dev, y_dev, 0.000005)\n",
        "toc = time.time()\n",
        "print('vectorized loss: %e computed in %fs' % (loss_vectorized, toc - tic))\n",
        "\n",
        "# We use the Frobenius norm to compare the two versions of the gradient.\n",
        "grad_difference = np.linalg.norm(grad_naive - grad_vectorized, ord='fro')\n",
        "print('Loss difference: %f' % np.abs(loss_naive - loss_vectorized))\n",
        "print('Gradient difference: %f' % grad_difference)"
      ]
    },
    {
      "cell_type": "markdown",
      "id": "5f26585a",
      "metadata": {
        "id": "5f26585a"
      },
      "source": [
        "$\\color{Orange}{\\textit Task:}$ *Use the validation set to tune hyperparameters (**regularization strength** and **learning rate**). You should experiment with different ranges for the learning rates and regularization strengths; if you are careful you should be able to get a classification accuracy of over **0.35** on the validation set.*"
      ]
    },
    {
      "cell_type": "code",
      "execution_count": 28,
      "id": "bd171311",
      "metadata": {
        "tags": [
          "code"
        ],
        "test": "tuning",
        "id": "bd171311",
        "colab": {
          "base_uri": "https://localhost:8080/"
        },
        "outputId": "c756a06c-6d93-46e1-d625-b7f3827f934b"
      },
      "outputs": [
        {
          "output_type": "stream",
          "name": "stdout",
          "text": [
            "lr 3.000000e-07 reg 5.000000e+03 train accuracy: 0.199714 val accuracy: 0.214000\n",
            "lr 3.000000e-07 reg 1.000000e+04 train accuracy: 0.200776 val accuracy: 0.191000\n",
            "lr 3.000000e-07 reg 2.500000e+04 train accuracy: 0.252367 val accuracy: 0.241000\n",
            "lr 3.000000e-07 reg 5.000000e+04 train accuracy: 0.295245 val accuracy: 0.312000\n",
            "lr 3.000000e-07 reg 1.000000e+05 train accuracy: 0.278755 val accuracy: 0.293000\n",
            "lr 6.000000e-07 reg 5.000000e+03 train accuracy: 0.234571 val accuracy: 0.247000\n",
            "lr 6.000000e-07 reg 1.000000e+04 train accuracy: 0.268367 val accuracy: 0.275000\n",
            "lr 6.000000e-07 reg 2.500000e+04 train accuracy: 0.324490 val accuracy: 0.344000\n",
            "lr 6.000000e-07 reg 5.000000e+04 train accuracy: 0.302122 val accuracy: 0.320000\n",
            "lr 6.000000e-07 reg 1.000000e+05 train accuracy: 0.287469 val accuracy: 0.300000\n",
            "lr 1.000000e-06 reg 5.000000e+03 train accuracy: 0.288184 val accuracy: 0.275000\n",
            "lr 1.000000e-06 reg 1.000000e+04 train accuracy: 0.322612 val accuracy: 0.324000\n",
            "lr 1.000000e-06 reg 2.500000e+04 train accuracy: 0.327082 val accuracy: 0.340000\n",
            "lr 1.000000e-06 reg 5.000000e+04 train accuracy: 0.279796 val accuracy: 0.289000\n",
            "lr 1.000000e-06 reg 1.000000e+05 train accuracy: 0.261143 val accuracy: 0.273000\n",
            "lr 3.000000e-06 reg 5.000000e+03 train accuracy: 0.342551 val accuracy: 0.355000\n",
            "lr 3.000000e-06 reg 1.000000e+04 train accuracy: 0.322429 val accuracy: 0.342000\n",
            "lr 3.000000e-06 reg 2.500000e+04 train accuracy: 0.283367 val accuracy: 0.298000\n",
            "lr 3.000000e-06 reg 5.000000e+04 train accuracy: 0.225714 val accuracy: 0.237000\n",
            "lr 3.000000e-06 reg 1.000000e+05 train accuracy: 0.229041 val accuracy: 0.232000\n",
            "best validation accuracy achieved during cross-validation: 0.355000\n"
          ]
        }
      ],
      "source": [
        "import random\n",
        "\n",
        "from utils.classifiers import Softmax\n",
        "results = {}\n",
        "best_val = -1\n",
        "best_softmax = None\n",
        "\n",
        "################################################################################\n",
        "# TODO:                                                                        #\n",
        "# Use the validation set to set the learning rate and regularization strength. #\n",
        "# save the best trained softmax classifer in best_softmax.                     #\n",
        "################################################################################\n",
        "\n",
        "# Provided as a reference. You may or may not want to change these hyperparameters\n",
        "learning_rates = [3e-7, 6e-7, 10e-7, 30e-7]\n",
        "regularization_strengths = [0.5e4, 1e4, 2.5e4, 5e4, 10e4]\n",
        "\n",
        "# *****START OF YOUR CODE (DO NOT DELETE/MODIFY THIS LINE)*****\n",
        "\n",
        "for lr in learning_rates:\n",
        "  for rs in regularization_strengths:\n",
        "    softmax = Softmax()\n",
        "    softmax.train(X_train, y_train, lr, rs)\n",
        "    acct = np.sum(softmax.predict(X_train) == y_train) / np.shape(X_train)[0]\n",
        "    accv = np.sum(softmax.predict(X_val) == y_val) / np.shape(X_val)[0]\n",
        "    results[(lr, rs)] = (acct, accv)\n",
        "\n",
        "    if accv > best_val:\n",
        "      best_val = accv\n",
        "      best_softmax = softmax\n",
        "\n",
        "# *****END OF YOUR CODE (DO NOT DELETE/MODIFY THIS LINE)*****\n",
        "\n",
        "# Print out results.\n",
        "for lr, reg in sorted(results):\n",
        "    train_accuracy, val_accuracy = results[(lr, reg)]\n",
        "    print('lr %e reg %e train accuracy: %f val accuracy: %f' % (\n",
        "                lr, reg, train_accuracy, val_accuracy))\n",
        "\n",
        "print('best validation accuracy achieved during cross-validation: %f' % best_val)"
      ]
    },
    {
      "cell_type": "code",
      "execution_count": 29,
      "id": "f94a8f12",
      "metadata": {
        "test": "test",
        "id": "f94a8f12",
        "colab": {
          "base_uri": "https://localhost:8080/"
        },
        "outputId": "4d10fa5f-fa59-42c3-a334-20a006c871cb"
      },
      "outputs": [
        {
          "output_type": "stream",
          "name": "stdout",
          "text": [
            "softmax on raw pixels final test set accuracy: 0.341000\n"
          ]
        }
      ],
      "source": [
        "# evaluate on test set\n",
        "# Evaluate the best softmax on test set\n",
        "y_test_pred = best_softmax.predict(X_test)\n",
        "test_accuracy = np.mean(y_test == y_test_pred)\n",
        "print('softmax on raw pixels final test set accuracy: %f' % (test_accuracy, ))"
      ]
    },
    {
      "cell_type": "markdown",
      "id": "7e2112ee",
      "metadata": {
        "tags": [
          "pdf-inline"
        ],
        "id": "7e2112ee"
      },
      "source": [
        "**Inline Question 2** - *True or False*\n",
        "\n",
        "Suppose the overall training loss is defined as the sum of the per-datapoint loss over all training examples. It is possible to add a new datapoint to a training set that would leave the SVM loss unchanged, but this is not the case with the Softmax classifier loss.\n",
        "\n",
        "$\\color{blue}{\\textit Your Answer:}$ True.\n",
        "\n",
        "\n",
        "$\\color{blue}{\\textit Your Explanation:}$ SVM loss can remain the same in case newly added point has a better score for the correct class than the for the rest of the classes with a margin of at least Δ. Softmax loss will always increase because the denominator of the softmax function f(x) is always greater than the numerator (it is a sum of the numerator and some positive expression), which means L_i = -log(f(x)) > 0.\n",
        "\n"
      ]
    },
    {
      "cell_type": "code",
      "execution_count": 30,
      "id": "86d86120",
      "metadata": {
        "id": "86d86120",
        "colab": {
          "base_uri": "https://localhost:8080/",
          "height": 528
        },
        "outputId": "890cae23-483d-450d-f5bc-53930a97fdeb"
      },
      "outputs": [
        {
          "output_type": "display_data",
          "data": {
            "text/plain": [
              "<Figure size 1000x800 with 10 Axes>"
            ],
            "image/png": "[encoded data removed]"
          },
          "metadata": {}
        }
      ],
      "source": [
        "# Visualize the learned weights for each class\n",
        "w = best_softmax.W[:-1,:] # strip out the bias\n",
        "w = w.reshape(32, 32, 3, 10)\n",
        "\n",
        "w_min, w_max = np.min(w), np.max(w)\n",
        "\n",
        "classes = ['plane', 'car', 'bird', 'cat', 'deer', 'dog', 'frog', 'horse', 'ship', 'truck']\n",
        "for i in range(10):\n",
        "    plt.subplot(2, 5, i + 1)\n",
        "\n",
        "    # Rescale the weights to be between 0 and 255\n",
        "    wimg = 255.0 * (w[:, :, :, i].squeeze() - w_min) / (w_max - w_min)\n",
        "    plt.imshow(wimg.astype('uint8'))\n",
        "    plt.axis('off')\n",
        "    plt.title(classes[i])"
      ]
    },
    {
      "cell_type": "code",
      "execution_count": 30,
      "id": "24688f99",
      "metadata": {
        "id": "24688f99"
      },
      "outputs": [],
      "source": []
    }
  ],
  "metadata": {
    "kernelspec": {
      "display_name": "lab1-env",
      "language": "python",
      "name": "python3"
    },
    "language_info": {
      "codemirror_mode": {
        "name": "ipython",
        "version": 3
      },
      "file_extension": ".py",
      "mimetype": "text/x-python",
      "name": "python",
      "nbconvert_exporter": "python",
      "pygments_lexer": "ipython3",
      "version": "3.10.14"
    },
    "colab": {
      "provenance": []
    }
  },
  "nbformat": 4,
  "nbformat_minor": 5
}